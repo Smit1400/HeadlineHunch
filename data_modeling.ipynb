{
 "cells": [
  {
   "attachments": {},
   "cell_type": "markdown",
   "metadata": {},
   "source": [
    "## In this notebook we will build the model and see some predicted examples"
   ]
  },
  {
   "cell_type": "code",
   "execution_count": 1,
   "metadata": {},
   "outputs": [],
   "source": [
    "import numpy as np\n",
    "import pandas as pd\n",
    "import matplotlib.pyplot as plt\n",
    "%matplotlib inline"
   ]
  },
  {
   "cell_type": "code",
   "execution_count": 2,
   "metadata": {},
   "outputs": [
    {
     "data": {
      "text/html": [
       "<div>\n",
       "<style scoped>\n",
       "    .dataframe tbody tr th:only-of-type {\n",
       "        vertical-align: middle;\n",
       "    }\n",
       "\n",
       "    .dataframe tbody tr th {\n",
       "        vertical-align: top;\n",
       "    }\n",
       "\n",
       "    .dataframe thead th {\n",
       "        text-align: right;\n",
       "    }\n",
       "</style>\n",
       "<table border=\"1\" class=\"dataframe\">\n",
       "  <thead>\n",
       "    <tr style=\"text-align: right;\">\n",
       "      <th></th>\n",
       "      <th>Unnamed: 0</th>\n",
       "      <th>text</th>\n",
       "      <th>summary</th>\n",
       "    </tr>\n",
       "  </thead>\n",
       "  <tbody>\n",
       "    <tr>\n",
       "      <th>0</th>\n",
       "      <td>0</td>\n",
       "      <td>administration union territory daman diu revok...</td>\n",
       "      <td>sostok daman diu revokes mandatory rakshabandh...</td>\n",
       "    </tr>\n",
       "    <tr>\n",
       "      <th>1</th>\n",
       "      <td>1</td>\n",
       "      <td>malaika arora slammed instagram user trolled d...</td>\n",
       "      <td>sostok malaika slams user who trolled her for ...</td>\n",
       "    </tr>\n",
       "    <tr>\n",
       "      <th>2</th>\n",
       "      <td>2</td>\n",
       "      <td>indira gandhi institute medical sciences igims...</td>\n",
       "      <td>sostok virgin now corrected to unmarried in ig...</td>\n",
       "    </tr>\n",
       "    <tr>\n",
       "      <th>3</th>\n",
       "      <td>3</td>\n",
       "      <td>lashkaretaibas kashmir commander abu dujana ki...</td>\n",
       "      <td>sostok aaj aapne pakad liya let man dujana bef...</td>\n",
       "    </tr>\n",
       "    <tr>\n",
       "      <th>4</th>\n",
       "      <td>4</td>\n",
       "      <td>hotels maharashtra train staff spot signs sex ...</td>\n",
       "      <td>sostok hotel staff to get training to spot sig...</td>\n",
       "    </tr>\n",
       "  </tbody>\n",
       "</table>\n",
       "</div>"
      ],
      "text/plain": [
       "   Unnamed: 0                                               text  \\\n",
       "0           0  administration union territory daman diu revok...   \n",
       "1           1  malaika arora slammed instagram user trolled d...   \n",
       "2           2  indira gandhi institute medical sciences igims...   \n",
       "3           3  lashkaretaibas kashmir commander abu dujana ki...   \n",
       "4           4  hotels maharashtra train staff spot signs sex ...   \n",
       "\n",
       "                                             summary  \n",
       "0  sostok daman diu revokes mandatory rakshabandh...  \n",
       "1  sostok malaika slams user who trolled her for ...  \n",
       "2  sostok virgin now corrected to unmarried in ig...  \n",
       "3  sostok aaj aapne pakad liya let man dujana bef...  \n",
       "4  sostok hotel staff to get training to spot sig...  "
      ]
     },
     "execution_count": 2,
     "metadata": {},
     "output_type": "execute_result"
    }
   ],
   "source": [
    "data = pd.read_csv(\"./dataset/cleaned_news_summary.csv\")\n",
    "data.head()"
   ]
  },
  {
   "attachments": {},
   "cell_type": "markdown",
   "metadata": {},
   "source": [
    "#### Splitting the dataset in the train and validation"
   ]
  },
  {
   "cell_type": "code",
   "execution_count": 6,
   "metadata": {},
   "outputs": [],
   "source": [
    "from sklearn.model_selection import train_test_split\n",
    "\n",
    "X_train, X_test, y_train, y_test = train_test_split(data.text, data.summary, test_size=0.2, random_state=101, shuffle=True)"
   ]
  },
  {
   "attachments": {},
   "cell_type": "markdown",
   "metadata": {},
   "source": [
    "### Loading all the tensorflow libraries for model building"
   ]
  },
  {
   "cell_type": "code",
   "execution_count": 7,
   "metadata": {},
   "outputs": [],
   "source": [
    "import tensorflow as tf\n",
    "from keras.preprocessing.text import Tokenizer\n",
    "from keras.utils import pad_sequences\n",
    "from tensorflow.keras.layers import Input, Embedding, LSTM, Dense, TimeDistributed, Concatenate, Bidirectional\n",
    "from tensorflow.keras.models import Model, Sequential\n",
    "from tensorflow.keras.callbacks import EarlyStopping, ReduceLROnPlateau, ModelCheckpoint\n",
    "from attention_my import AttentionLayer\n",
    "\n",
    "\n",
    "import warnings\n",
    "\n",
    "pd.set_option('display.max_colwidth', 200)\n",
    "warnings.filterwarnings('ignore')"
   ]
  },
  {
   "cell_type": "code",
   "execution_count": 8,
   "metadata": {},
   "outputs": [],
   "source": [
    "physical_devices = tf.config.list_physical_devices(\"GPU\")\n",
    "physical_devices\n",
    "tf.config.experimental.set_memory_growth(physical_devices[0], True)\n",
    "# run_opts = tf.Run(report_tensor_allocations_upon_oom = True)"
   ]
  },
  {
   "attachments": {},
   "cell_type": "markdown",
   "metadata": {},
   "source": [
    "### Next converting text to sequence of numbers"
   ]
  },
  {
   "cell_type": "code",
   "execution_count": 9,
   "metadata": {},
   "outputs": [],
   "source": [
    "x_tokenizer = Tokenizer() \n",
    "x_tokenizer.fit_on_texts(list(X_train))"
   ]
  },
  {
   "cell_type": "code",
   "execution_count": 10,
   "metadata": {},
   "outputs": [],
   "source": [
    "thresh=4\n",
    "\n",
    "cnt=0\n",
    "tot_cnt=0\n",
    "freq=0\n",
    "tot_freq=0\n",
    "\n",
    "for key,value in x_tokenizer.word_counts.items():\n",
    "    tot_cnt=tot_cnt+1\n",
    "    tot_freq=tot_freq+value\n",
    "    if(value<thresh):\n",
    "        cnt=cnt+1\n",
    "        freq=freq+value\n",
    "    \n",
    "print(\"% of rare words in vocabulary:\",(cnt/tot_cnt)*100)\n",
    "print(\"Total Coverage of rare words:\",(freq/tot_freq)*100)"
   ]
  },
  {
   "cell_type": "code",
   "execution_count": 11,
   "metadata": {},
   "outputs": [],
   "source": [
    "X_tokenizer = Tokenizer()\n",
    "X_tokenizer.fit_on_texts(list(X_train))\n",
    "\n",
    "X_train_seq = X_tokenizer.texts_to_sequences(X_train)\n",
    "X_test_seq = X_tokenizer.texts_to_sequences(X_test)\n",
    "\n",
    "X_train = pad_sequences(X_train_seq, maxlen = max_len_news, padding='post')\n",
    "X_test = pad_sequences(X_test_seq, maxlen = max_len_news, padding='post')\n",
    "\n",
    "news_vocab_size = len(X_tokenizer.word_index) + 1"
   ]
  },
  {
   "cell_type": "code",
   "execution_count": 12,
   "metadata": {},
   "outputs": [],
   "source": [
    "#prepare a tokenizer for reviews on training data\n",
    "y_tokenizer = Tokenizer()   \n",
    "y_tokenizer.fit_on_texts(list(y_train))"
   ]
  },
  {
   "cell_type": "code",
   "execution_count": 13,
   "metadata": {},
   "outputs": [],
   "source": [
    "thresh=2\n",
    "\n",
    "cnt=0\n",
    "tot_cnt=0\n",
    "freq=0\n",
    "tot_freq=0\n",
    "\n",
    "for key,value in y_tokenizer.word_counts.items():\n",
    "    tot_cnt=tot_cnt+1\n",
    "    tot_freq=tot_freq+value\n",
    "    if(value<thresh):\n",
    "        cnt=cnt+1\n",
    "        freq=freq+value\n",
    "    \n",
    "print(\"% of rare words in vocabulary:\",(cnt/tot_cnt)*100)\n",
    "print(\"Total Coverage of rare words:\",(freq/tot_freq)*100)"
   ]
  },
  {
   "cell_type": "code",
   "execution_count": 14,
   "metadata": {},
   "outputs": [],
   "source": [
    "y_tokenizer = Tokenizer()\n",
    "y_tokenizer.fit_on_texts(list(y_train))\n",
    "\n",
    "y_train_seq = y_tokenizer.texts_to_sequences(y_train)\n",
    "y_test_seq = y_tokenizer.texts_to_sequences(y_test)\n",
    "\n",
    "y_train = pad_sequences(y_train_seq, maxlen=max_len_headline, padding='post')\n",
    "y_test = pad_sequences(y_test_seq, maxlen=max_len_headline, padding='post')\n",
    "y_voc_size = len(y_tokenizer.word_index) + 1"
   ]
  },
  {
   "cell_type": "code",
   "execution_count": 15,
   "metadata": {},
   "outputs": [
    {
     "data": {
      "text/plain": [
       "(3516, 3516)"
      ]
     },
     "execution_count": 15,
     "metadata": {},
     "output_type": "execute_result"
    }
   ],
   "source": [
    "y_tokenizer.word_counts['eostok'], len(y_train)"
   ]
  },
  {
   "attachments": {},
   "cell_type": "markdown",
   "metadata": {},
   "source": [
    "### Model Building and Training"
   ]
  },
  {
   "cell_type": "code",
   "execution_count": 18,
   "metadata": {},
   "outputs": [
    {
     "name": "stdout",
     "output_type": "stream",
     "text": [
      "WARNING:tensorflow:Layer lstm will not use cuDNN kernels since it doesn't meet the criteria. It will use a generic GPU kernel as fallback when running on GPU.\n",
      "WARNING:tensorflow:Layer lstm_1 will not use cuDNN kernels since it doesn't meet the criteria. It will use a generic GPU kernel as fallback when running on GPU.\n",
      "WARNING:tensorflow:Layer lstm_2 will not use cuDNN kernels since it doesn't meet the criteria. It will use a generic GPU kernel as fallback when running on GPU.\n",
      "WARNING:tensorflow:Layer lstm_3 will not use cuDNN kernels since it doesn't meet the criteria. It will use a generic GPU kernel as fallback when running on GPU.\n",
      "Model: \"model\"\n",
      "__________________________________________________________________________________________________\n",
      " Layer (type)                   Output Shape         Param #     Connected to                     \n",
      "==================================================================================================\n",
      " input_1 (InputLayer)           [(None, 47)]         0           []                               \n",
      "                                                                                                  \n",
      " embedding (Embedding)          (None, 47, 100)      1946400     ['input_1[0][0]']                \n",
      "                                                                                                  \n",
      " lstm (LSTM)                    [(None, 47, 300),    481200      ['embedding[0][0]']              \n",
      "                                 (None, 300),                                                     \n",
      "                                 (None, 300)]                                                     \n",
      "                                                                                                  \n",
      " input_2 (InputLayer)           [(None, None)]       0           []                               \n",
      "                                                                                                  \n",
      " lstm_1 (LSTM)                  [(None, 47, 300),    721200      ['lstm[0][0]']                   \n",
      "                                 (None, 300),                                                     \n",
      "                                 (None, 300)]                                                     \n",
      "                                                                                                  \n",
      " embedding_1 (Embedding)        (None, None, 100)    776200      ['input_2[0][0]']                \n",
      "                                                                                                  \n",
      " lstm_2 (LSTM)                  [(None, 47, 300),    721200      ['lstm_1[0][0]']                 \n",
      "                                 (None, 300),                                                     \n",
      "                                 (None, 300)]                                                     \n",
      "                                                                                                  \n",
      " lstm_3 (LSTM)                  [(None, None, 300),  481200      ['embedding_1[0][0]',            \n",
      "                                 (None, 300),                     'lstm_2[0][1]',                 \n",
      "                                 (None, 300)]                     'lstm_2[0][2]']                 \n",
      "                                                                                                  \n",
      " attention_layer (AttentionLaye  ((None, None, 300),  180300     ['lstm_2[0][0]',                 \n",
      " r)                              (None, None, 47))                'lstm_3[0][0]']                 \n",
      "                                                                                                  \n",
      " concat_layer (Concatenate)     (None, None, 600)    0           ['lstm_3[0][0]',                 \n",
      "                                                                  'attention_layer[0][0]']        \n",
      "                                                                                                  \n",
      " time_distributed (TimeDistribu  (None, None, 7762)  4664962     ['concat_layer[0][0]']           \n",
      " ted)                                                                                             \n",
      "                                                                                                  \n",
      "==================================================================================================\n",
      "Total params: 9,972,662\n",
      "Trainable params: 9,972,662\n",
      "Non-trainable params: 0\n",
      "__________________________________________________________________________________________________\n"
     ]
    }
   ],
   "source": [
    "from keras import backend as K\n",
    "K.clear_session()\n",
    "\n",
    "latent_dim=300\n",
    "emb_dim=100\n",
    "\n",
    "enc_inputs = Input(shape=(max_len_news,))\n",
    "embedding1 = Embedding(news_vocab_size,emb_dim, trainable=True)(enc_inputs)\n",
    "\n",
    "lstm1 = LSTM(latent_dim, return_sequences=True, return_state=True, dropout=0.3, recurrent_dropout=0.2)\n",
    "enc_output1, h1, c1 = lstm1(embedding1)\n",
    "\n",
    "lstm2 = LSTM(latent_dim, return_sequences=True,return_state=True, dropout=0.3, recurrent_dropout=0.2)\n",
    "enc_output2, h2, c2 = lstm2(enc_output1)\n",
    "\n",
    "lstm3 = LSTM(latent_dim, return_sequences=True,return_state=True, dropout=0.3, recurrent_dropout=0.2)\n",
    "enc_outputs, h3, c3 = lstm3(enc_output2)\n",
    "\n",
    "\n",
    "decoder_inputs = Input(shape=(None, ))\n",
    "dec_embedding = Embedding(y_voc_size, emb_dim, trainable=True)\n",
    "dec_emb_out = dec_embedding(decoder_inputs)\n",
    "\n",
    "dec_lstm = LSTM(latent_dim, return_sequences=True, return_state=True, dropout=0.3, recurrent_dropout=0.2)\n",
    "decoder_outputs, fwd_state, back_state = dec_lstm(dec_emb_out, initial_state = [h3, c3])\n",
    "\n",
    "\n",
    "\n",
    "attn_layer = AttentionLayer(name='attention_layer') \n",
    "attn_out, attn_state = attn_layer([enc_outputs, decoder_outputs])\n",
    "\n",
    "decoder_concat_input = Concatenate(axis=-1, name='concat_layer')([decoder_outputs, attn_out])\n",
    "\n",
    "decoder_dense = TimeDistributed(Dense(y_voc_size, activation='softmax'))\n",
    "decoder_outputs = decoder_dense(decoder_concat_input)\n",
    "\n",
    "model = Model([enc_inputs, decoder_inputs], decoder_outputs)\n",
    "model.summary()"
   ]
  },
  {
   "cell_type": "code",
   "execution_count": 19,
   "metadata": {},
   "outputs": [],
   "source": [
    "model.compile(optimizer='rmsprop', loss='sparse_categorical_crossentropy', metrics='accuracy')"
   ]
  },
  {
   "cell_type": "code",
   "execution_count": 20,
   "metadata": {},
   "outputs": [],
   "source": [
    "es = EarlyStopping(monitor='val_accuracy',mode='max',verbose=1,patience=40)\n",
    "rl = ReduceLROnPlateau(monitor='val_accuracy',mode='max',verbose=1,patience=5,factor=0.1,min_lr=0.001)\n",
    "mc = ModelCheckpoint('checkpoint/',monitor='val_accuracy',verbose=1,mode='max',save_best_only=True)"
   ]
  },
  {
   "cell_type": "code",
   "execution_count": 21,
   "metadata": {},
   "outputs": [
    {
     "name": "stdout",
     "output_type": "stream",
     "text": [
      "Epoch 1/50\n",
      "55/55 [==============================] - ETA: 0s - loss: 6.4889 - accuracy: 0.2007\n",
      "Epoch 1: val_accuracy improved from -inf to 0.32576, saving model to checkpoint\\\n",
      "INFO:tensorflow:Assets written to: checkpoint\\assets\n",
      "55/55 [==============================] - 45s 672ms/step - loss: 6.4889 - accuracy: 0.2007 - val_loss: 5.0628 - val_accuracy: 0.3258 - lr: 0.0010\n",
      "Epoch 2/50\n",
      "55/55 [==============================] - ETA: 0s - loss: 5.8868 - accuracy: 0.2696\n",
      "Epoch 2: val_accuracy improved from 0.32576 to 0.35985, saving model to checkpoint\\\n",
      "INFO:tensorflow:Assets written to: checkpoint\\assets\n",
      "55/55 [==============================] - 36s 657ms/step - loss: 5.8868 - accuracy: 0.2696 - val_loss: 4.8986 - val_accuracy: 0.3598 - lr: 0.0010\n",
      "Epoch 3/50\n",
      "55/55 [==============================] - ETA: 0s - loss: 5.6950 - accuracy: 0.2804\n",
      "Epoch 3: val_accuracy did not improve from 0.35985\n",
      "55/55 [==============================] - 30s 549ms/step - loss: 5.6950 - accuracy: 0.2804 - val_loss: 4.9104 - val_accuracy: 0.3503 - lr: 0.0010\n",
      "Epoch 4/50\n",
      "55/55 [==============================] - ETA: 0s - loss: 5.5470 - accuracy: 0.2836\n",
      "Epoch 4: val_accuracy did not improve from 0.35985\n",
      "55/55 [==============================] - 30s 552ms/step - loss: 5.5470 - accuracy: 0.2836 - val_loss: 4.8724 - val_accuracy: 0.3507 - lr: 0.0010\n",
      "Epoch 5/50\n",
      "55/55 [==============================] - ETA: 0s - loss: 5.4148 - accuracy: 0.2846\n",
      "Epoch 5: val_accuracy improved from 0.35985 to 0.36638, saving model to checkpoint\\\n",
      "INFO:tensorflow:Assets written to: checkpoint\\assets\n",
      "55/55 [==============================] - 37s 677ms/step - loss: 5.4148 - accuracy: 0.2846 - val_loss: 4.7854 - val_accuracy: 0.3664 - lr: 0.0010\n",
      "Epoch 6/50\n",
      "55/55 [==============================] - ETA: 0s - loss: 5.2907 - accuracy: 0.2880\n",
      "Epoch 6: val_accuracy did not improve from 0.36638\n",
      "55/55 [==============================] - 30s 542ms/step - loss: 5.2907 - accuracy: 0.2880 - val_loss: 4.7668 - val_accuracy: 0.3575 - lr: 0.0010\n",
      "Epoch 7/50\n",
      "55/55 [==============================] - ETA: 0s - loss: 5.1645 - accuracy: 0.2895\n",
      "Epoch 7: val_accuracy did not improve from 0.36638\n",
      "55/55 [==============================] - 29s 534ms/step - loss: 5.1645 - accuracy: 0.2895 - val_loss: 4.7840 - val_accuracy: 0.3545 - lr: 0.0010\n",
      "Epoch 8/50\n",
      "55/55 [==============================] - ETA: 0s - loss: 5.0394 - accuracy: 0.2920\n",
      "Epoch 8: val_accuracy did not improve from 0.36638\n",
      "55/55 [==============================] - 30s 552ms/step - loss: 5.0394 - accuracy: 0.2920 - val_loss: 4.7509 - val_accuracy: 0.3620 - lr: 0.0010\n",
      "Epoch 9/50\n",
      "55/55 [==============================] - ETA: 0s - loss: 4.9141 - accuracy: 0.2938\n",
      "Epoch 9: val_accuracy did not improve from 0.36638\n",
      "55/55 [==============================] - 30s 544ms/step - loss: 4.9141 - accuracy: 0.2938 - val_loss: 4.8005 - val_accuracy: 0.3535 - lr: 0.0010\n",
      "Epoch 10/50\n",
      "55/55 [==============================] - ETA: 0s - loss: 4.7922 - accuracy: 0.2976\n",
      "Epoch 10: val_accuracy did not improve from 0.36638\n",
      "55/55 [==============================] - 30s 542ms/step - loss: 4.7922 - accuracy: 0.2976 - val_loss: 4.8300 - val_accuracy: 0.3534 - lr: 0.0010\n",
      "Epoch 11/50\n",
      "55/55 [==============================] - ETA: 0s - loss: 4.6702 - accuracy: 0.2987\n",
      "Epoch 11: val_accuracy did not improve from 0.36638\n",
      "55/55 [==============================] - 30s 549ms/step - loss: 4.6702 - accuracy: 0.2987 - val_loss: 4.8633 - val_accuracy: 0.3521 - lr: 0.0010\n",
      "Epoch 12/50\n",
      "55/55 [==============================] - ETA: 0s - loss: 4.5360 - accuracy: 0.3021\n",
      "Epoch 12: val_accuracy did not improve from 0.36638\n",
      "55/55 [==============================] - 29s 531ms/step - loss: 4.5360 - accuracy: 0.3021 - val_loss: 4.8386 - val_accuracy: 0.3613 - lr: 0.0010\n",
      "Epoch 13/50\n",
      "55/55 [==============================] - ETA: 0s - loss: 4.4066 - accuracy: 0.3039\n",
      "Epoch 13: val_accuracy did not improve from 0.36638\n",
      "55/55 [==============================] - 31s 569ms/step - loss: 4.4066 - accuracy: 0.3039 - val_loss: 4.8782 - val_accuracy: 0.3534 - lr: 0.0010\n",
      "Epoch 14/50\n",
      "55/55 [==============================] - ETA: 0s - loss: 4.2761 - accuracy: 0.3084\n",
      "Epoch 14: val_accuracy did not improve from 0.36638\n",
      "55/55 [==============================] - 30s 539ms/step - loss: 4.2761 - accuracy: 0.3084 - val_loss: 4.8855 - val_accuracy: 0.3557 - lr: 0.0010\n",
      "Epoch 15/50\n",
      "55/55 [==============================] - ETA: 0s - loss: 4.1453 - accuracy: 0.3132\n",
      "Epoch 15: val_accuracy did not improve from 0.36638\n",
      "55/55 [==============================] - 29s 536ms/step - loss: 4.1453 - accuracy: 0.3132 - val_loss: 4.9139 - val_accuracy: 0.3563 - lr: 0.0010\n",
      "Epoch 16/50\n",
      "55/55 [==============================] - ETA: 0s - loss: 4.0136 - accuracy: 0.3174\n",
      "Epoch 16: val_accuracy did not improve from 0.36638\n",
      "55/55 [==============================] - 32s 590ms/step - loss: 4.0136 - accuracy: 0.3174 - val_loss: 4.9506 - val_accuracy: 0.3501 - lr: 0.0010\n",
      "Epoch 17/50\n",
      "55/55 [==============================] - ETA: 0s - loss: 3.8826 - accuracy: 0.3261\n",
      "Epoch 17: val_accuracy did not improve from 0.36638\n",
      "55/55 [==============================] - 32s 576ms/step - loss: 3.8826 - accuracy: 0.3261 - val_loss: 4.9735 - val_accuracy: 0.3523 - lr: 0.0010\n",
      "Epoch 18/50\n",
      "55/55 [==============================] - ETA: 0s - loss: 3.7567 - accuracy: 0.3340\n",
      "Epoch 18: val_accuracy did not improve from 0.36638\n",
      "55/55 [==============================] - 30s 547ms/step - loss: 3.7567 - accuracy: 0.3340 - val_loss: 4.9920 - val_accuracy: 0.3504 - lr: 0.0010\n",
      "Epoch 19/50\n",
      "55/55 [==============================] - ETA: 0s - loss: 3.6294 - accuracy: 0.3441\n",
      "Epoch 19: val_accuracy did not improve from 0.36638\n",
      "55/55 [==============================] - 31s 569ms/step - loss: 3.6294 - accuracy: 0.3441 - val_loss: 5.0108 - val_accuracy: 0.3523 - lr: 0.0010\n",
      "Epoch 20/50\n",
      "55/55 [==============================] - ETA: 0s - loss: 3.5027 - accuracy: 0.3563\n",
      "Epoch 20: val_accuracy did not improve from 0.36638\n",
      "55/55 [==============================] - 30s 554ms/step - loss: 3.5027 - accuracy: 0.3563 - val_loss: 5.0482 - val_accuracy: 0.3511 - lr: 0.0010\n",
      "Epoch 21/50\n",
      "55/55 [==============================] - ETA: 0s - loss: 3.3751 - accuracy: 0.3699\n",
      "Epoch 21: val_accuracy did not improve from 0.36638\n",
      "55/55 [==============================] - 30s 553ms/step - loss: 3.3751 - accuracy: 0.3699 - val_loss: 5.0360 - val_accuracy: 0.3546 - lr: 0.0010\n",
      "Epoch 22/50\n",
      "55/55 [==============================] - ETA: 0s - loss: 3.2597 - accuracy: 0.3848\n",
      "Epoch 22: val_accuracy did not improve from 0.36638\n",
      "55/55 [==============================] - 31s 572ms/step - loss: 3.2597 - accuracy: 0.3848 - val_loss: 5.0637 - val_accuracy: 0.3536 - lr: 0.0010\n",
      "Epoch 23/50\n",
      "55/55 [==============================] - ETA: 0s - loss: 3.1434 - accuracy: 0.4028\n",
      "Epoch 23: val_accuracy did not improve from 0.36638\n",
      "55/55 [==============================] - 30s 539ms/step - loss: 3.1434 - accuracy: 0.4028 - val_loss: 5.0854 - val_accuracy: 0.3540 - lr: 0.0010\n",
      "Epoch 24/50\n",
      "55/55 [==============================] - ETA: 0s - loss: 3.0204 - accuracy: 0.4200\n",
      "Epoch 24: val_accuracy did not improve from 0.36638\n",
      "55/55 [==============================] - 31s 562ms/step - loss: 3.0204 - accuracy: 0.4200 - val_loss: 5.1364 - val_accuracy: 0.3479 - lr: 0.0010\n",
      "Epoch 25/50\n",
      "55/55 [==============================] - ETA: 0s - loss: 2.9024 - accuracy: 0.4374\n",
      "Epoch 25: val_accuracy did not improve from 0.36638\n",
      "55/55 [==============================] - 31s 557ms/step - loss: 2.9024 - accuracy: 0.4374 - val_loss: 5.1368 - val_accuracy: 0.3542 - lr: 0.0010\n",
      "Epoch 26/50\n",
      "55/55 [==============================] - ETA: 0s - loss: 2.7963 - accuracy: 0.4556\n",
      "Epoch 26: val_accuracy did not improve from 0.36638\n",
      "55/55 [==============================] - 30s 545ms/step - loss: 2.7963 - accuracy: 0.4556 - val_loss: 5.2014 - val_accuracy: 0.3500 - lr: 0.0010\n",
      "Epoch 27/50\n",
      "55/55 [==============================] - ETA: 0s - loss: 2.6797 - accuracy: 0.4748\n",
      "Epoch 27: val_accuracy did not improve from 0.36638\n",
      "55/55 [==============================] - 32s 577ms/step - loss: 2.6797 - accuracy: 0.4748 - val_loss: 5.1942 - val_accuracy: 0.3522 - lr: 0.0010\n",
      "Epoch 28/50\n",
      "55/55 [==============================] - ETA: 0s - loss: 2.5648 - accuracy: 0.4963\n",
      "Epoch 28: val_accuracy did not improve from 0.36638\n",
      "55/55 [==============================] - 31s 568ms/step - loss: 2.5648 - accuracy: 0.4963 - val_loss: 5.2305 - val_accuracy: 0.3485 - lr: 0.0010\n",
      "Epoch 29/50\n",
      "55/55 [==============================] - ETA: 0s - loss: 2.4701 - accuracy: 0.5141\n",
      "Epoch 29: val_accuracy did not improve from 0.36638\n",
      "55/55 [==============================] - 32s 582ms/step - loss: 2.4701 - accuracy: 0.5141 - val_loss: 5.2991 - val_accuracy: 0.3441 - lr: 0.0010\n",
      "Epoch 30/50\n",
      "55/55 [==============================] - ETA: 0s - loss: 2.3590 - accuracy: 0.5385\n",
      "Epoch 30: val_accuracy did not improve from 0.36638\n",
      "55/55 [==============================] - 31s 557ms/step - loss: 2.3590 - accuracy: 0.5385 - val_loss: 5.3176 - val_accuracy: 0.3404 - lr: 0.0010\n",
      "Epoch 31/50\n",
      "55/55 [==============================] - ETA: 0s - loss: 2.2686 - accuracy: 0.5541\n",
      "Epoch 31: val_accuracy did not improve from 0.36638\n",
      "55/55 [==============================] - 31s 561ms/step - loss: 2.2686 - accuracy: 0.5541 - val_loss: 5.3172 - val_accuracy: 0.3473 - lr: 0.0010\n",
      "Epoch 32/50\n",
      "55/55 [==============================] - ETA: 0s - loss: 2.1591 - accuracy: 0.5742\n",
      "Epoch 32: val_accuracy did not improve from 0.36638\n",
      "55/55 [==============================] - 32s 577ms/step - loss: 2.1591 - accuracy: 0.5742 - val_loss: 5.3931 - val_accuracy: 0.3446 - lr: 0.0010\n",
      "Epoch 33/50\n",
      "55/55 [==============================] - ETA: 0s - loss: 2.0772 - accuracy: 0.5880\n",
      "Epoch 33: val_accuracy did not improve from 0.36638\n",
      "55/55 [==============================] - 30s 551ms/step - loss: 2.0772 - accuracy: 0.5880 - val_loss: 5.3686 - val_accuracy: 0.3454 - lr: 0.0010\n",
      "Epoch 34/50\n",
      "55/55 [==============================] - ETA: 0s - loss: 1.9756 - accuracy: 0.6128\n",
      "Epoch 34: val_accuracy did not improve from 0.36638\n",
      "55/55 [==============================] - 31s 558ms/step - loss: 1.9756 - accuracy: 0.6128 - val_loss: 5.4104 - val_accuracy: 0.3446 - lr: 0.0010\n",
      "Epoch 35/50\n",
      "55/55 [==============================] - ETA: 0s - loss: 1.8884 - accuracy: 0.6299\n",
      "Epoch 35: val_accuracy did not improve from 0.36638\n",
      "55/55 [==============================] - 30s 554ms/step - loss: 1.8884 - accuracy: 0.6299 - val_loss: 5.4541 - val_accuracy: 0.3445 - lr: 0.0010\n",
      "Epoch 36/50\n",
      "55/55 [==============================] - ETA: 0s - loss: 1.8052 - accuracy: 0.6479\n",
      "Epoch 36: val_accuracy did not improve from 0.36638\n",
      "55/55 [==============================] - 32s 576ms/step - loss: 1.8052 - accuracy: 0.6479 - val_loss: 5.4652 - val_accuracy: 0.3442 - lr: 0.0010\n",
      "Epoch 37/50\n",
      "55/55 [==============================] - ETA: 0s - loss: 1.7175 - accuracy: 0.6661\n",
      "Epoch 37: val_accuracy did not improve from 0.36638\n",
      "55/55 [==============================] - 31s 557ms/step - loss: 1.7175 - accuracy: 0.6661 - val_loss: 5.5206 - val_accuracy: 0.3414 - lr: 0.0010\n",
      "Epoch 38/50\n",
      "55/55 [==============================] - ETA: 0s - loss: 1.6428 - accuracy: 0.6788\n",
      "Epoch 38: val_accuracy did not improve from 0.36638\n",
      "55/55 [==============================] - 30s 547ms/step - loss: 1.6428 - accuracy: 0.6788 - val_loss: 5.5101 - val_accuracy: 0.3433 - lr: 0.0010\n",
      "Epoch 39/50\n",
      "55/55 [==============================] - ETA: 0s - loss: 1.5697 - accuracy: 0.6970\n",
      "Epoch 39: val_accuracy did not improve from 0.36638\n",
      "55/55 [==============================] - 30s 543ms/step - loss: 1.5697 - accuracy: 0.6970 - val_loss: 5.5514 - val_accuracy: 0.3445 - lr: 0.0010\n",
      "Epoch 40/50\n",
      "55/55 [==============================] - ETA: 0s - loss: 1.4901 - accuracy: 0.7140\n",
      "Epoch 40: val_accuracy did not improve from 0.36638\n",
      "55/55 [==============================] - 31s 566ms/step - loss: 1.4901 - accuracy: 0.7140 - val_loss: 5.5668 - val_accuracy: 0.3427 - lr: 0.0010\n",
      "Epoch 41/50\n",
      "55/55 [==============================] - ETA: 0s - loss: 1.4207 - accuracy: 0.7274\n",
      "Epoch 41: val_accuracy did not improve from 0.36638\n",
      "55/55 [==============================] - 31s 556ms/step - loss: 1.4207 - accuracy: 0.7274 - val_loss: 5.5846 - val_accuracy: 0.3439 - lr: 0.0010\n",
      "Epoch 42/50\n",
      "55/55 [==============================] - ETA: 0s - loss: 1.3556 - accuracy: 0.7412\n",
      "Epoch 42: val_accuracy did not improve from 0.36638\n",
      "55/55 [==============================] - 31s 571ms/step - loss: 1.3556 - accuracy: 0.7412 - val_loss: 5.6107 - val_accuracy: 0.3438 - lr: 0.0010\n",
      "Epoch 43/50\n",
      "55/55 [==============================] - ETA: 0s - loss: 1.2813 - accuracy: 0.7564\n",
      "Epoch 43: val_accuracy did not improve from 0.36638\n",
      "55/55 [==============================] - 31s 558ms/step - loss: 1.2813 - accuracy: 0.7564 - val_loss: 5.6688 - val_accuracy: 0.3410 - lr: 0.0010\n",
      "Epoch 44/50\n",
      "55/55 [==============================] - ETA: 0s - loss: 1.2101 - accuracy: 0.7709\n",
      "Epoch 44: val_accuracy did not improve from 0.36638\n",
      "55/55 [==============================] - 31s 568ms/step - loss: 1.2101 - accuracy: 0.7709 - val_loss: 5.6452 - val_accuracy: 0.3443 - lr: 0.0010\n",
      "Epoch 45/50\n",
      "55/55 [==============================] - ETA: 0s - loss: 1.1608 - accuracy: 0.7839\n",
      "Epoch 45: val_accuracy did not improve from 0.36638\n",
      "55/55 [==============================] - 30s 548ms/step - loss: 1.1608 - accuracy: 0.7839 - val_loss: 5.6883 - val_accuracy: 0.3441 - lr: 0.0010\n",
      "Epoch 45: early stopping\n"
     ]
    }
   ],
   "source": [
    "\n",
    "history=model.fit([X_train,y_train[:,:-1]], y_train.reshape(y_train.shape[0],y_train.shape[1], 1)[:,1:] ,epochs=50,batch_size=64, callbacks=[es, rl, mc], validation_data=([X_test,y_test[:,:-1]], y_test.reshape(y_test.shape[0],y_test.shape[1], 1)[:,1:]))"
   ]
  },
  {
   "attachments": {},
   "cell_type": "markdown",
   "metadata": {},
   "source": [
    "##### As we notice that we get the final accuracy of 78.4 %"
   ]
  },
  {
   "cell_type": "code",
   "execution_count": 22,
   "metadata": {},
   "outputs": [
    {
     "data": {
      "image/png": "[encoded data removed]",
      "text/plain": [
       "<Figure size 640x480 with 1 Axes>"
      ]
     },
     "metadata": {},
     "output_type": "display_data"
    }
   ],
   "source": [
    "from matplotlib import pyplot \n",
    "pyplot.plot(history.history['loss'], label='train') \n",
    "pyplot.plot(history.history['val_loss'], label='test') \n",
    "pyplot.legend() \n",
    "pyplot.show()\n"
   ]
  },
  {
   "cell_type": "code",
   "execution_count": 23,
   "metadata": {},
   "outputs": [],
   "source": [
    "reverse_target_word_index = y_tokenizer.index_word\n",
    "reverse_news_words_index = X_tokenizer.index_word\n",
    "target_word_index = y_tokenizer.word_index\n"
   ]
  },
  {
   "attachments": {},
   "cell_type": "markdown",
   "metadata": {},
   "source": [
    "## Inference Model"
   ]
  },
  {
   "cell_type": "code",
   "execution_count": 24,
   "metadata": {},
   "outputs": [],
   "source": [
    "encoder_model = Model(inputs = enc_inputs, outputs = [enc_outputs, h3, c3])\n",
    "\n",
    "decoder_h = Input(shape=(latent_dim,))\n",
    "decoder_c = Input(shape=(latent_dim,))\n",
    "decoder_hidden_state_input = Input(shape=(max_len_news, latent_dim))\n",
    "\n",
    "\n",
    "dec_emb2 = dec_embedding(decoder_inputs)\n",
    "\n",
    "dec_output2, dec_h2, dec_c2 = dec_lstm(dec_emb2, initial_state=[decoder_h, decoder_c])\n",
    "\n",
    "\n",
    "\n",
    "\n",
    "attn_out_inf, attn_state_inf = attn_layer([decoder_hidden_state_input, dec_output2])\n",
    "\n",
    "dec_inf_concat = Concatenate(axis=-1, name='concat')([dec_output2, attn_out_inf])\n",
    "\n",
    "\n",
    "dec_output2 = decoder_dense(dec_inf_concat)\n",
    "\n",
    "\n",
    "decoder_model = Model([decoder_inputs] + [decoder_hidden_state_input, decoder_h, decoder_c], [dec_output2] + [dec_h2, dec_c2])"
   ]
  },
  {
   "cell_type": "code",
   "execution_count": 25,
   "metadata": {},
   "outputs": [
    {
     "name": "stdout",
     "output_type": "stream",
     "text": [
      "Model: \"model_2\"\n",
      "__________________________________________________________________________________________________\n",
      " Layer (type)                   Output Shape         Param #     Connected to                     \n",
      "==================================================================================================\n",
      " input_2 (InputLayer)           [(None, None)]       0           []                               \n",
      "                                                                                                  \n",
      " embedding_1 (Embedding)        (None, None, 100)    776200      ['input_2[0][0]']                \n",
      "                                                                                                  \n",
      " input_3 (InputLayer)           [(None, 300)]        0           []                               \n",
      "                                                                                                  \n",
      " input_4 (InputLayer)           [(None, 300)]        0           []                               \n",
      "                                                                                                  \n",
      " lstm_3 (LSTM)                  [(None, None, 300),  481200      ['embedding_1[1][0]',            \n",
      "                                 (None, 300),                     'input_3[0][0]',                \n",
      "                                 (None, 300)]                     'input_4[0][0]']                \n",
      "                                                                                                  \n",
      " input_5 (InputLayer)           [(None, 47, 300)]    0           []                               \n",
      "                                                                                                  \n",
      " attention_layer (AttentionLaye  ((None, None, 300),  180300     ['input_5[0][0]',                \n",
      " r)                              (None, None, 47))                'lstm_3[1][0]']                 \n",
      "                                                                                                  \n",
      " concat (Concatenate)           (None, None, 600)    0           ['lstm_3[1][0]',                 \n",
      "                                                                  'attention_layer[1][0]']        \n",
      "                                                                                                  \n",
      " time_distributed (TimeDistribu  (None, None, 7762)  4664962     ['concat[0][0]']                 \n",
      " ted)                                                                                             \n",
      "                                                                                                  \n",
      "==================================================================================================\n",
      "Total params: 6,102,662\n",
      "Trainable params: 6,102,662\n",
      "Non-trainable params: 0\n",
      "__________________________________________________________________________________________________\n"
     ]
    }
   ],
   "source": [
    "decoder_model.summary()"
   ]
  },
  {
   "attachments": {},
   "cell_type": "markdown",
   "metadata": {},
   "source": [
    "### Function to predict"
   ]
  },
  {
   "cell_type": "code",
   "execution_count": 26,
   "metadata": {},
   "outputs": [],
   "source": [
    "def decode_sequence(input_sequence):\n",
    "    e_out, e_h, e_c = encoder_model(input_sequence)\n",
    "\n",
    "    target_seq = np.zeros((1,1))\n",
    "\n",
    "    target_seq[0,0] = target_word_index['sostok'] ## We always start with sostok\n",
    "\n",
    "    stop_condition = False\n",
    "\n",
    "\n",
    "    decoded_sentence = ''\n",
    "    while not stop_condition:\n",
    "        output_tokens, h, c = decoder_model.predict([target_seq] + [e_out, e_h, e_c])\n",
    "        \n",
    "        sample_token_index = np.argmax(output_tokens[0,-1,:])\n",
    "        sampled_token = reverse_target_word_index[sample_token_index]\n",
    "\n",
    "        if sampled_token!='eostok':\n",
    "            decoded_sentence+= ' ' + sampled_token\n",
    "\n",
    "        if (sampled_token=='eostok' or len(decoded_sentence.split())>=(max_len_headline-1)):\n",
    "            stop_condition = True\n",
    "\n",
    "        target_seq = np.zeros((1,1))\n",
    "\n",
    "        target_seq[0,0] = target_word_index[sampled_token]\n",
    "\n",
    "\n",
    "        e_h, e_c = h, c\n",
    "\n",
    "    return decoded_sentence\n"
   ]
  },
  {
   "cell_type": "code",
   "execution_count": 27,
   "metadata": {},
   "outputs": [],
   "source": [
    "def seq2summary(input_seq):\n",
    "    newString=''\n",
    "    for i in input_seq:\n",
    "      if((i!=0 and i!=target_word_index['sostok']) and i!=target_word_index['eostok']):\n",
    "        newString=newString+reverse_target_word_index[i]+' '\n",
    "    return newString\n",
    "\n",
    "def seq2text(input_seq):\n",
    "    newString=''\n",
    "    for i in input_seq:\n",
    "      if(i!=0):\n",
    "        newString=newString+reverse_news_words_index[i]+' '\n",
    "    return newString"
   ]
  },
  {
   "attachments": {},
   "cell_type": "markdown",
   "metadata": {},
   "source": [
    "## Lets look at some examples"
   ]
  },
  {
   "cell_type": "code",
   "execution_count": 30,
   "metadata": {},
   "outputs": [
    {
     "name": "stdout",
     "output_type": "stream",
     "text": [
      "Review: six months stabbed left playing hand czech tennis player petra kvitova first tournament classic sunday world number 12 kvitova playing second tournament since december incident beat australian 46 63 63 birmingham kvitova returned action french open late may \n",
      "Original summary: czech tennis player wins title months after being stabbed \n",
      "1/1 [==============================] - 0s 17ms/step\n",
      "1/1 [==============================] - 0s 17ms/step\n",
      "1/1 [==============================] - 0s 20ms/step\n",
      "1/1 [==============================] - 0s 22ms/step\n",
      "1/1 [==============================] - 0s 22ms/step\n",
      "1/1 [==============================] - 0s 18ms/step\n",
      "1/1 [==============================] - 0s 19ms/step\n",
      "1/1 [==============================] - 0s 17ms/step\n",
      "1/1 [==============================] - 0s 18ms/step\n",
      "1/1 [==============================] - 0s 17ms/step\n",
      "1/1 [==============================] - 0s 18ms/step\n",
      "Predicted summary:  what is hold icj from icj in icj in jadhav\n",
      "\n",
      "\n",
      "Review: farmers 78 villages maharashtra reportedly planning go indefinite fast protest alleged acquisition farm land industrial corridor despite project getting scaled original size 78 villages activists said officials maintained planning land acquisition \n",
      "Original summary: maha farmers to fast to protest land acquisition \n",
      "1/1 [==============================] - 0s 16ms/step\n",
      "1/1 [==============================] - 0s 19ms/step\n",
      "1/1 [==============================] - 0s 17ms/step\n",
      "1/1 [==============================] - 0s 17ms/step\n",
      "1/1 [==============================] - 0s 18ms/step\n",
      "1/1 [==============================] - 0s 17ms/step\n",
      "1/1 [==============================] - 0s 18ms/step\n",
      "1/1 [==============================] - 0s 18ms/step\n",
      "1/1 [==============================] - 0s 19ms/step\n",
      "1/1 [==============================] - 0s 18ms/step\n",
      "Predicted summary:  delhi man to get in protest in delhi bjp\n",
      "\n",
      "\n",
      "Review: launching desh ka aam scheme thursday pm narendra modi said dream see person wears slippers fly lives middle class aviation considered domain select changed added \n",
      "Original summary: wanted to see people wearing on \n",
      "1/1 [==============================] - 0s 17ms/step\n",
      "1/1 [==============================] - 0s 18ms/step\n",
      "1/1 [==============================] - 0s 19ms/step\n",
      "1/1 [==============================] - 0s 18ms/step\n",
      "1/1 [==============================] - 0s 16ms/step\n",
      "1/1 [==============================] - 0s 19ms/step\n",
      "1/1 [==============================] - 0s 18ms/step\n",
      "1/1 [==============================] - 0s 18ms/step\n",
      "1/1 [==============================] - 0s 20ms/step\n",
      "1/1 [==============================] - 0s 18ms/step\n",
      "1/1 [==============================] - 0s 19ms/step\n",
      "Predicted summary:  modi should pm modi to relook in modi katrinas modi\n",
      "\n",
      "\n"
     ]
    }
   ],
   "source": [
    "for i in range(1, 4):\n",
    "  print(\"Review:\",seq2text(X_test[i]))\n",
    "  print(\"Original summary:\",seq2summary(y_test[i]))\n",
    "  print(\"Predicted summary:\",decode_sequence(X_test[i].reshape(1,max_len_news)))\n",
    "  print(\"\\n\")"
   ]
  },
  {
   "cell_type": "code",
   "execution_count": null,
   "metadata": {},
   "outputs": [],
   "source": []
  }
 ],
 "metadata": {
  "kernelspec": {
   "display_name": "base",
   "language": "python",
   "name": "python3"
  },
  "language_info": {
   "codemirror_mode": {
    "name": "ipython",
    "version": 3
   },
   "file_extension": ".py",
   "mimetype": "text/x-python",
   "name": "python",
   "nbconvert_exporter": "python",
   "pygments_lexer": "ipython3",
   "version": "3.9.13 (main, Aug 25 2022, 23:51:50) [MSC v.1916 64 bit (AMD64)]"
  },
  "orig_nbformat": 4,
  "vscode": {
   "interpreter": {
    "hash": "4d6c57ef52e2efd1c05c16360dde36ad734d1ea6e1782145a484aca776c2e3cc"
   }
  }
 },
 "nbformat": 4,
 "nbformat_minor": 2
}
